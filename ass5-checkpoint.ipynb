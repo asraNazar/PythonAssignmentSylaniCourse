{
 "cells": [
  {
   "cell_type": "code",
   "execution_count": 3,
   "metadata": {},
   "outputs": [],
   "source": [
    "#Write a Python function to calculate the factorial of a number (a non-negative\n",
    "#integer). The function accepts the number as an argument.\n",
    "def fact(n):\n",
    "    fact=1\n",
    "    for i in range(1,n+1):\n",
    "        fact=fact*i\n",
    "    print(\"Factorial of a number is: \",fact)    \n",
    "\n",
    "fact(5)"
   ]
  },
  {
   "cell_type": "code",
   "execution_count": 8,
   "metadata": {},
   "outputs": [
    {
     "name": "stdout",
     "output_type": "stream",
     "text": [
      "Upper case letters are: 1 \n",
      "Lower case letters are: 3\n"
     ]
    }
   ],
   "source": [
    "#Write a Python function that accepts a string and calculate the number of upper\n",
    "#case letters and lower case letters.\n",
    "def funct(s):\n",
    "    up=0\n",
    "    lower=0\n",
    "    for i in s:\n",
    "        if i.isupper():\n",
    "            up+=1\n",
    "        else:\n",
    "            lower+=1\n",
    "    print(\"Upper case letters are: %d \\nLower case letters are: %d\"%(up,lower))\n",
    "    \n",
    "funct('Asra')"
   ]
  },
  {
   "cell_type": "code",
   "execution_count": 10,
   "metadata": {},
   "outputs": [
    {
     "name": "stdout",
     "output_type": "stream",
     "text": [
      "2 , 4 , 6 , 8 , 10 , "
     ]
    }
   ],
   "source": [
    "#Write a Python function to print the even numbers from a given list.\n",
    "def num(li):\n",
    "    for i in li:\n",
    "        if i%2==0:\n",
    "            print(i,end=\" , \")\n",
    "            \n",
    "li=[1,2,3,4,6,8,10]\n",
    "num(li)"
   ]
  },
  {
   "cell_type": "code",
   "execution_count": 13,
   "metadata": {},
   "outputs": [
    {
     "name": "stdout",
     "output_type": "stream",
     "text": [
      "madam is a palindrome\n"
     ]
    }
   ],
   "source": [
    "#Write a Python function that checks whether a passed string is palindrome or not.\n",
    "#Note: A palindrome is a word, phrase, or sequence that reads the same\n",
    "#backward as forward, e.g., madam\n",
    "def pal(a):\n",
    "    rev=\"\"\n",
    "    for i in a:\n",
    "        rev=i+rev\n",
    "    if rev==a:\n",
    "        print(\"%s is a palindrome\" % a)\n",
    "       \n",
    "    else:\n",
    "        print(\"%s is not a palindrome\" % a)\n",
    "       \n",
    "\n",
    "pal('madam')"
   ]
  },
  {
   "cell_type": "code",
   "execution_count": 21,
   "metadata": {},
   "outputs": [
    {
     "name": "stdout",
     "output_type": "stream",
     "text": [
      "Enter the number to check if it is prime4\n",
      "The number 4 is a Prime number \n"
     ]
    }
   ],
   "source": [
    "#Write a Python function that takes a number as a parameter and check the\n",
    "#number is prime or not.\n",
    "def isPrime(number):\n",
    "    if number%2==0:\n",
    "        print(\"The number %d is a Prime number \" % number)\n",
    "    else:\n",
    "        print(\"The number %d is not a Prime number \" % number)\n",
    "\n",
    "        \n",
    "n=int(input(\"Enter the number to check if it is prime\"))\n",
    "isPrime(n)\n",
    "    "
   ]
  },
  {
   "cell_type": "code",
   "execution_count": 1,
   "metadata": {},
   "outputs": [
    {
     "name": "stdout",
     "output_type": "stream",
     "text": [
      "Hi! Items which user bought from market.\n",
      "Shampoo\n",
      "Soap\n",
      "Surf Excel\n",
      "Harpic\n"
     ]
    }
   ],
   "source": [
    "#Write a function which accepts the multiple arguments of user shopping list and\n",
    "#print all the items which user bought from market.\n",
    "def shopList(*shoppingList):\n",
    "\n",
    "   for myList in shoppingList:\n",
    "       print(myList)\n",
    "\n",
    "        \n",
    "print(\"Hi! Items which user bought from market.\")        \n",
    "        \n",
    "shopList(\"Shampoo\",\"Soap\",\"Surf Excel\",\"Harpic\")\n"
   ]
  },
  {
   "cell_type": "code",
   "execution_count": null,
   "metadata": {},
   "outputs": [],
   "source": []
  }
 ],
 "metadata": {
  "kernelspec": {
   "display_name": "Python 3",
   "language": "python",
   "name": "python3"
  },
  "language_info": {
   "codemirror_mode": {
    "name": "ipython",
    "version": 3
   },
   "file_extension": ".py",
   "mimetype": "text/x-python",
   "name": "python",
   "nbconvert_exporter": "python",
   "pygments_lexer": "ipython3",
   "version": "3.7.3"
  }
 },
 "nbformat": 4,
 "nbformat_minor": 2
}
